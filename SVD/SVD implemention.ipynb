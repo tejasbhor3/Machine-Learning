{
 "cells": [
  {
   "cell_type": "markdown",
   "metadata": {},
   "source": [
    "# SVD with numpy"
   ]
  },
  {
   "cell_type": "code",
   "execution_count": 2,
   "metadata": {},
   "outputs": [],
   "source": [
    "import numpy as np"
   ]
  },
  {
   "cell_type": "code",
   "execution_count": 3,
   "metadata": {},
   "outputs": [
    {
     "data": {
      "text/plain": [
       "array([[-1,  2,  0],\n",
       "       [ 2,  0,  1],\n",
       "       [ 0, -2,  1]])"
      ]
     },
     "execution_count": 3,
     "metadata": {},
     "output_type": "execute_result"
    }
   ],
   "source": [
    "#data\n",
    "A=np.array([[-1,2,0],[2,0,1],[0,-2,1]])\n",
    "A"
   ]
  },
  {
   "cell_type": "code",
   "execution_count": 5,
   "metadata": {},
   "outputs": [
    {
     "name": "stdout",
     "output_type": "stream",
     "text": [
      "[[-0.67028426 -0.14157742  0.72847433]\n",
      " [ 0.39926415 -0.89625169  0.19318659]\n",
      " [ 0.62554549  0.42034361  0.65727018]]\n",
      "[3.15029268 2.05306258 0.92767992]\n",
      "[[ 0.46624638 -0.8226726   0.32530617]\n",
      " [-0.80412841 -0.54739786 -0.23180398]\n",
      " [-0.36877068  0.15351016  0.91675668]]\n"
     ]
    }
   ],
   "source": [
    "#U,s,VT\n",
    "from numpy.linalg import svd\n",
    "U,S,VT=svd(A)\n",
    "print(U)\n",
    "print(S)\n",
    "print(VT)"
   ]
  },
  {
   "cell_type": "code",
   "execution_count": 7,
   "metadata": {},
   "outputs": [
    {
     "data": {
      "text/plain": [
       "array([[3.15029268, 0.        , 0.        ],\n",
       "       [0.        , 2.05306258, 0.        ],\n",
       "       [0.        , 0.        , 0.92767992]])"
      ]
     },
     "execution_count": 7,
     "metadata": {},
     "output_type": "execute_result"
    }
   ],
   "source": [
    "sigma=np.zeros(A.shape)\n",
    "sigma[:A.shape[0],:A.shape[0]]=np.diag(S)\n",
    "sigma"
   ]
  },
  {
   "cell_type": "code",
   "execution_count": 8,
   "metadata": {},
   "outputs": [
    {
     "data": {
      "text/plain": [
       "array([[-2.11159159, -0.2906673 ,  0.67579101],\n",
       "       [ 1.25779892, -1.8400608 ,  0.17921532],\n",
       "       [ 1.97065138,  0.86299174,  0.60973635]])"
      ]
     },
     "execution_count": 8,
     "metadata": {},
     "output_type": "execute_result"
    }
   ],
   "source": [
    "T=U.dot(sigma)\n",
    "T=A.dot(VT.T)\n",
    "T"
   ]
  },
  {
   "cell_type": "markdown",
   "metadata": {},
   "source": [
    "# SVD using Scikit-learn\n",
    "TruncatedSVD"
   ]
  },
  {
   "cell_type": "code",
   "execution_count": 9,
   "metadata": {},
   "outputs": [
    {
     "data": {
      "text/plain": [
       "array([[ 2.11159159,  0.2906673 ],\n",
       "       [-1.25779892,  1.8400608 ],\n",
       "       [-1.97065138, -0.86299174]])"
      ]
     },
     "execution_count": 9,
     "metadata": {},
     "output_type": "execute_result"
    }
   ],
   "source": [
    "from sklearn.decomposition import TruncatedSVD\n",
    "svd=TruncatedSVD()\n",
    "svd.fit(A)\n",
    "T=svd.transform(A)\n",
    "T"
   ]
  },
  {
   "cell_type": "code",
   "execution_count": 10,
   "metadata": {},
   "outputs": [
    {
     "data": {
      "text/plain": [
       "array([3.15029268, 2.05306258])"
      ]
     },
     "execution_count": 10,
     "metadata": {},
     "output_type": "execute_result"
    }
   ],
   "source": [
    "svd.singular_values_"
   ]
  },
  {
   "cell_type": "markdown",
   "metadata": {},
   "source": [
    "# Randomized SVD"
   ]
  },
  {
   "cell_type": "code",
   "execution_count": 11,
   "metadata": {},
   "outputs": [
    {
     "name": "stdout",
     "output_type": "stream",
     "text": [
      "[[ 0.67028426  0.14157742]\n",
      " [-0.39926415  0.89625169]\n",
      " [-0.62554549 -0.42034361]]\n",
      "[[3.15029268 0.        ]\n",
      " [0.         2.05306258]]\n",
      "[[-0.46624638  0.8226726  -0.32530617]\n",
      " [ 0.80412841  0.54739786  0.23180398]]\n"
     ]
    },
    {
     "data": {
      "text/plain": [
       "array([[ 2.11159159,  0.2906673 ],\n",
       "       [-1.25779892,  1.8400608 ],\n",
       "       [-1.97065138, -0.86299174]])"
      ]
     },
     "execution_count": 11,
     "metadata": {},
     "output_type": "execute_result"
    }
   ],
   "source": [
    "from sklearn.utils.extmath import randomized_svd\n",
    "\n",
    "u,s,vt=randomized_svd(A,n_components=2)\n",
    "\n",
    "print(u)\n",
    "print(np.diag(s))\n",
    "print(vt)\n",
    "\n",
    "T=u.dot(np.diag(s))\n",
    "T=A.dot(vt.T)\n",
    "T"
   ]
  },
  {
   "cell_type": "code",
   "execution_count": null,
   "metadata": {},
   "outputs": [],
   "source": []
  }
 ],
 "metadata": {
  "kernelspec": {
   "display_name": "Python 3",
   "language": "python",
   "name": "python3"
  },
  "language_info": {
   "codemirror_mode": {
    "name": "ipython",
    "version": 3
   },
   "file_extension": ".py",
   "mimetype": "text/x-python",
   "name": "python",
   "nbconvert_exporter": "python",
   "pygments_lexer": "ipython3",
   "version": "3.8.5"
  }
 },
 "nbformat": 4,
 "nbformat_minor": 4
}
